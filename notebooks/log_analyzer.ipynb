{
 "cells": [
  {
   "cell_type": "code",
   "execution_count": null,
   "metadata": {},
   "outputs": [],
   "source": [
    "import matplotlib.pyplot as plt\n",
    "import pandas as pd\n",
    "import seaborn as sns\n",
    "import re\n",
    "import numpy as np\n",
    "%matplotlib inline  "
   ]
  },
  {
   "cell_type": "code",
   "execution_count": null,
   "metadata": {},
   "outputs": [],
   "source": [
    "log_file = \"../tiny_benchmark/outputs/tiny_set/FPN/X101_v4/log.txt\""
   ]
  },
  {
   "cell_type": "code",
   "execution_count": null,
   "metadata": {},
   "outputs": [],
   "source": [
    "with open(log_file, \"r\") as f:\n",
    "    logs = f.read()"
   ]
  },
  {
   "cell_type": "code",
   "execution_count": null,
   "metadata": {},
   "outputs": [],
   "source": [
    "loss_dict = {}\n",
    "loss_dict['loss'] = np.array(re.findall(r'loss: ([\\d\\.]+)', logs)).astype(float)\n",
    "loss_dict['loss_box_reg'] = np.array(re.findall(r'loss_box_reg: ([\\d\\.]+)', logs)).astype(float)\n",
    "loss_dict['loss_classifier'] = np.array(re.findall(r'loss_classifier: ([\\d\\.]+)', logs)).astype(float)\n",
    "loss_dict['loss_objectness'] = np.array(re.findall(r'loss_objectness: ([\\d\\.]+)', logs)).astype(float)\n",
    "loss_dict['loss_rpn_box_reg'] = np.array(re.findall(r'loss_rpn_box_reg: ([\\d\\.]+)', logs)).astype(float)"
   ]
  },
  {
   "cell_type": "code",
   "execution_count": null,
   "metadata": {},
   "outputs": [],
   "source": [
    "df = pd.DataFrame(loss_dict)\n",
    "df = df.reset_index()\n",
    "#df = pd.melt(df, id_vars='index', value_vars=['loss', 'loss_box_reg', 'loss_classifier','loss_objectness','loss_rpn_box_reg'])"
   ]
  },
  {
   "cell_type": "code",
   "execution_count": null,
   "metadata": {},
   "outputs": [],
   "source": [
    "fig=plt.figure(figsize=(15, 15))\n",
    "ax=fig.add_subplot(1, 1, 1)\n",
    "sns.regplot(data=df, x=\"index\", y=\"loss\", label=\"loss\")\n",
    "sns.regplot(data=df, x=\"index\", y=\"loss_box_reg\", label=\"loss_box_reg\")\n",
    "sns.regplot(data=df, x=\"index\", y=\"loss_classifier\", label=\"loss_classifier\")\n",
    "sns.regplot(data=df, x=\"index\", y=\"loss_objectness\", label=\"loss_objectness\")\n",
    "sns.regplot(data=df, x=\"index\", y=\"loss_rpn_box_reg\", label=\"loss_rpn_box_reg\")\n",
    "ax.legend(loc=\"best\")"
   ]
  }
 ],
 "metadata": {
  "kernelspec": {
   "display_name": "Python 3",
   "language": "python",
   "name": "python3"
  },
  "language_info": {
   "codemirror_mode": {
    "name": "ipython",
    "version": 3
   },
   "file_extension": ".py",
   "mimetype": "text/x-python",
   "name": "python",
   "nbconvert_exporter": "python",
   "pygments_lexer": "ipython3",
   "version": "3.6.9"
  }
 },
 "nbformat": 4,
 "nbformat_minor": 4
}
