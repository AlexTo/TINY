{
 "cells": [
  {
   "cell_type": "code",
   "execution_count": 35,
   "metadata": {},
   "outputs": [],
   "source": [
    "import json"
   ]
  },
  {
   "cell_type": "code",
   "execution_count": 36,
   "metadata": {},
   "outputs": [],
   "source": [
    "scale = 2"
   ]
  },
  {
   "cell_type": "code",
   "execution_count": 44,
   "metadata": {},
   "outputs": [],
   "source": [
    "ann_file = '../dataset/tiny_set/annotations/corner/task/tiny_set_test_sw640_sh512_all.json'\n",
    "scaled_ann_file = f'../dataset/tiny_set/annotations/corner/task/tiny_set_test_sw640_sh512_all_2x.json'"
   ]
  },
  {
   "cell_type": "code",
   "execution_count": 45,
   "metadata": {},
   "outputs": [],
   "source": [
    "with open(ann_file) as f:\n",
    "    data = json.load(f)\n",
    "annotations = data['annotations']\n",
    "images = data['images']\n",
    "old_images = data['old_images']"
   ]
  },
  {
   "cell_type": "markdown",
   "metadata": {},
   "source": [
    "### Scale the image crops"
   ]
  },
  {
   "cell_type": "code",
   "execution_count": 46,
   "metadata": {},
   "outputs": [],
   "source": [
    "for img in images:\n",
    "    img['height'] = img['height'] * scale\n",
    "    img['width'] = img['width'] * scale\n",
    "    img['corner'] = [c * scale for c in img['corner']]"
   ]
  },
  {
   "cell_type": "markdown",
   "metadata": {},
   "source": [
    "### Scale the annotations"
   ]
  },
  {
   "cell_type": "code",
   "execution_count": 47,
   "metadata": {},
   "outputs": [],
   "source": [
    "for ann in annotations:\n",
    "    ann['segmentation'] = [[c * scale for c in s] for s in ann['segmentation']]\n",
    "    ann['bbox'] = [b * scale for b in ann['bbox']]\n",
    "    ann['area'] = ann['area'] * scale\n",
    "    ann['size'] = ann['size'] * scale"
   ]
  },
  {
   "cell_type": "markdown",
   "metadata": {},
   "source": [
    "### Scale the old images"
   ]
  },
  {
   "cell_type": "code",
   "execution_count": 48,
   "metadata": {},
   "outputs": [],
   "source": [
    "for img in old_images:\n",
    "    img['height'] = img['height'] * scale\n",
    "    img['width'] = img['width'] * scale"
   ]
  },
  {
   "cell_type": "code",
   "execution_count": 49,
   "metadata": {},
   "outputs": [
    {
     "data": {
      "text/plain": [
       "{'image_id': 7,\n",
       " 'category_id': 1,\n",
       " 'bbox': [347.47998046875, 744.41748046875, 66.7427978515625, 25.380615234375],\n",
       " 'score': 0.9623300433158875,\n",
       " 'segmentation': [[347.47998046875,\n",
       "   744.41748046875,\n",
       "   347.47998046875,\n",
       "   769.798095703125,\n",
       "   414.2227783203125,\n",
       "   769.798095703125,\n",
       "   414.2227783203125,\n",
       "   744.41748046875]],\n",
       " 'id': 0,\n",
       " 'iscrowd': 0,\n",
       " 'area': 846.9866359680891,\n",
       " 'size': 41.1579065543448}"
      ]
     },
     "execution_count": 49,
     "metadata": {},
     "output_type": "execute_result"
    }
   ],
   "source": [
    "annotations[0]"
   ]
  },
  {
   "cell_type": "code",
   "execution_count": 50,
   "metadata": {},
   "outputs": [
    {
     "data": {
      "text/plain": [
       "{'image_id': 7,\n",
       " 'category_id': 1,\n",
       " 'bbox': [347.47998046875, 744.41748046875, 66.7427978515625, 25.380615234375],\n",
       " 'score': 0.9623300433158875,\n",
       " 'segmentation': [[347.47998046875,\n",
       "   744.41748046875,\n",
       "   347.47998046875,\n",
       "   769.798095703125,\n",
       "   414.2227783203125,\n",
       "   769.798095703125,\n",
       "   414.2227783203125,\n",
       "   744.41748046875]],\n",
       " 'id': 0,\n",
       " 'iscrowd': 0,\n",
       " 'area': 846.9866359680891,\n",
       " 'size': 41.1579065543448}"
      ]
     },
     "execution_count": 50,
     "metadata": {},
     "output_type": "execute_result"
    }
   ],
   "source": [
    "annotations[0]"
   ]
  },
  {
   "cell_type": "code",
   "execution_count": 51,
   "metadata": {},
   "outputs": [],
   "source": [
    "with open(scaled_ann_file, 'w') as f:\n",
    "    json.dump(data, f)"
   ]
  },
  {
   "cell_type": "code",
   "execution_count": null,
   "metadata": {},
   "outputs": [],
   "source": []
  }
 ],
 "metadata": {
  "kernelspec": {
   "display_name": "Python 3",
   "language": "python",
   "name": "python3"
  },
  "language_info": {
   "codemirror_mode": {
    "name": "ipython",
    "version": 3
   },
   "file_extension": ".py",
   "mimetype": "text/x-python",
   "name": "python",
   "nbconvert_exporter": "python",
   "pygments_lexer": "ipython3",
   "version": "3.7.7"
  }
 },
 "nbformat": 4,
 "nbformat_minor": 4
}
