{
 "cells": [
  {
   "cell_type": "code",
   "execution_count": 1,
   "metadata": {},
   "outputs": [],
   "source": [
    "import numpy as np\n",
    "import os\n",
    "from pycocotools.coco import COCO\n",
    "from PIL import Image\n",
    "from ISR.models import RDN\n",
    "from pathlib import Path"
   ]
  },
  {
   "cell_type": "code",
   "execution_count": 2,
   "metadata": {},
   "outputs": [],
   "source": [
    "tiny_train_img_dir = '../dataset/tiny_set/erase_with_uncertain_dataset/train/labeled_images'\n",
    "tiny_train_super_res_dir = '../dataset/tiny_set/erase_with_uncertain_dataset/train_sr/labeled_images'"
   ]
  },
  {
   "cell_type": "code",
   "execution_count": 16,
   "metadata": {},
   "outputs": [],
   "source": [
    "tiny_test_img_dir = '../dataset/tiny_set/test/labeled_images'\n",
    "tiny_test_super_res_dir = '../dataset/tiny_set/test_2x/labeled_images'"
   ]
  },
  {
   "cell_type": "code",
   "execution_count": 10,
   "metadata": {},
   "outputs": [],
   "source": [
    "visdrone_train_img_dir = '../dataset/visdrone/images/train/'\n",
    "visdrone_train_super_res_dir = '../dataset/visdrone/images/train_2x/'"
   ]
  },
  {
   "cell_type": "code",
   "execution_count": 4,
   "metadata": {},
   "outputs": [],
   "source": [
    "rdn = RDN(weights='psnr-small')"
   ]
  },
  {
   "cell_type": "code",
   "execution_count": 12,
   "metadata": {},
   "outputs": [],
   "source": [
    "def super_res(src_dir, target_dir):\n",
    "    Path(target_dir).mkdir(parents=True, exist_ok=True)\n",
    "    for f in os.listdir(src_dir):\n",
    "        if os.path.exists(f\"{target_dir}/{f}\"):\n",
    "            continue\n",
    "        img = Image.open(f\"{src_dir}/{f}\")\n",
    "        img = np.array(img)\n",
    "        sr_img = rdn.predict(img, by_patch_of_size=50)\n",
    "        sr_img = Image.fromarray(sr_img)\n",
    "        sr_img.save(f\"{target_dir}/{f}\")"
   ]
  },
  {
   "cell_type": "code",
   "execution_count": 6,
   "metadata": {},
   "outputs": [],
   "source": [
    "super_res(tiny_train_img_dir, tiny_train_super_res_dir)"
   ]
  },
  {
   "cell_type": "code",
   "execution_count": null,
   "metadata": {},
   "outputs": [],
   "source": [
    "super_res(tiny_test_img_dir, tiny_test_super_res_dir)"
   ]
  },
  {
   "cell_type": "code",
   "execution_count": null,
   "metadata": {},
   "outputs": [],
   "source": [
    "super_res(visdrone_train_img_dir, visdrone_train_super_res_dir)"
   ]
  }
 ],
 "metadata": {
  "kernelspec": {
   "display_name": "Python 3",
   "language": "python",
   "name": "python3"
  },
  "language_info": {
   "codemirror_mode": {
    "name": "ipython",
    "version": 3
   },
   "file_extension": ".py",
   "mimetype": "text/x-python",
   "name": "python",
   "nbconvert_exporter": "python",
   "pygments_lexer": "ipython3",
   "version": "3.6.10"
  }
 },
 "nbformat": 4,
 "nbformat_minor": 4
}
