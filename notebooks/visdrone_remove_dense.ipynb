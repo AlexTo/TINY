{
 "cells": [
  {
   "cell_type": "code",
   "execution_count": 24,
   "metadata": {},
   "outputs": [],
   "source": [
    "import json\n",
    "import numpy as np\n",
    "import matplotlib.pyplot as plt\n",
    "import json\n",
    "from pycocotools.coco import COCO"
   ]
  },
  {
   "cell_type": "code",
   "execution_count": 23,
   "metadata": {},
   "outputs": [],
   "source": [
    "visdrone_train_file = '../dataset/visdrone/annotations/visdrone_train.json'\n",
    "save_file = '../dataset/visdrone/annotations/visdrone_train_remove_dense.json'"
   ]
  },
  {
   "cell_type": "code",
   "execution_count": 3,
   "metadata": {},
   "outputs": [
    {
     "name": "stdout",
     "output_type": "stream",
     "text": [
      "loading annotations into memory...\n",
      "Done (t=1.50s)\n",
      "creating index...\n",
      "index created!\n"
     ]
    }
   ],
   "source": [
    "coco = COCO(visdrone_train_file)"
   ]
  },
  {
   "cell_type": "code",
   "execution_count": 15,
   "metadata": {},
   "outputs": [],
   "source": [
    "imgs_to_keep = []\n",
    "imgs = coco.imgs\n",
    "for img in imgs:\n",
    "    img_id = imgs[img]['id']\n",
    "    anns = coco.getAnnIds(imgIds=[img_id])\n",
    "    if len(anns) < 150:\n",
    "        imgs_to_keep.append(img_id)"
   ]
  },
  {
   "cell_type": "code",
   "execution_count": 17,
   "metadata": {},
   "outputs": [],
   "source": [
    "images = coco.loadImgs(ids=imgs_to_keep)"
   ]
  },
  {
   "cell_type": "code",
   "execution_count": 19,
   "metadata": {},
   "outputs": [],
   "source": [
    "anns = coco.loadAnns(coco.getAnnIds(imgIds=imgs_to_keep))"
   ]
  },
  {
   "cell_type": "code",
   "execution_count": 28,
   "metadata": {},
   "outputs": [],
   "source": [
    "with open(save_file, 'w') as f:\n",
    "    json.dump({\n",
    "        \"type\": \"instance\",\n",
    "        \"annotations\": anns,\n",
    "        \"images\": images,\n",
    "        \"categories\": [{\n",
    "            \"id\":1,\n",
    "            \"name\": \"person\"}]}, f)"
   ]
  },
  {
   "cell_type": "code",
   "execution_count": null,
   "metadata": {},
   "outputs": [],
   "source": []
  }
 ],
 "metadata": {
  "kernelspec": {
   "display_name": "Python 3",
   "language": "python",
   "name": "python3"
  },
  "language_info": {
   "codemirror_mode": {
    "name": "ipython",
    "version": 3
   },
   "file_extension": ".py",
   "mimetype": "text/x-python",
   "name": "python",
   "nbconvert_exporter": "python",
   "pygments_lexer": "ipython3",
   "version": "3.7.7"
  }
 },
 "nbformat": 4,
 "nbformat_minor": 4
}
