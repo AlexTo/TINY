{
 "cells": [
  {
   "cell_type": "code",
   "execution_count": 23,
   "metadata": {},
   "outputs": [],
   "source": [
    "import os\n",
    "import json\n",
    "import zipfile"
   ]
  },
  {
   "cell_type": "code",
   "execution_count": 14,
   "metadata": {},
   "outputs": [],
   "source": [
    "scale = 2"
   ]
  },
  {
   "cell_type": "code",
   "execution_count": 42,
   "metadata": {},
   "outputs": [],
   "source": [
    "orig_json = '../tiny_benchmark/outputs/tiny_set/FPN/X101_optimized_3_4e_001lr/inference/tiny_set_corner_sw640_sh512_test_all_coco_2x/bbox_merge_nms0.5.json'\n",
    "submission_json = '../tiny_benchmark/outputs/tiny_set/FPN/X101_optimized_3_4e_001lr/inference/tiny_set_corner_sw640_sh512_test_all_coco_2x/bbox_merge_nms_scale0.5.json'\n",
    "submission_zip = '../tiny_benchmark/outputs/tiny_set/FPN/X101_optimized_3_4e_001lr/inference/tiny_set_corner_sw640_sh512_test_all_coco_2x/submission.zip'"
   ]
  },
  {
   "cell_type": "code",
   "execution_count": 43,
   "metadata": {},
   "outputs": [],
   "source": [
    "with open(orig_json) as f:\n",
    "    data = json.load(f)"
   ]
  },
  {
   "cell_type": "markdown",
   "metadata": {},
   "source": [
    "### Scale the submission annotations"
   ]
  },
  {
   "cell_type": "code",
   "execution_count": 44,
   "metadata": {},
   "outputs": [],
   "source": [
    "for anno in data:\n",
    "    anno['bbox'] = [b / scale for b in anno['bbox']]"
   ]
  },
  {
   "cell_type": "code",
   "execution_count": 45,
   "metadata": {},
   "outputs": [],
   "source": [
    "with open(submission_json, 'w') as f:\n",
    "    json.dump(data, f)"
   ]
  },
  {
   "cell_type": "code",
   "execution_count": 46,
   "metadata": {},
   "outputs": [],
   "source": [
    "with zipfile.ZipFile(submission_zip, 'w', zipfile.ZIP_DEFLATED) as archive:\n",
    "    archive.write(submission_json, os.path.basename(submission_json))"
   ]
  },
  {
   "cell_type": "code",
   "execution_count": null,
   "metadata": {},
   "outputs": [],
   "source": []
  }
 ],
 "metadata": {
  "kernelspec": {
   "display_name": "Python 3",
   "language": "python",
   "name": "python3"
  },
  "language_info": {
   "codemirror_mode": {
    "name": "ipython",
    "version": 3
   },
   "file_extension": ".py",
   "mimetype": "text/x-python",
   "name": "python",
   "nbconvert_exporter": "python",
   "pygments_lexer": "ipython3",
   "version": "3.6.10"
  }
 },
 "nbformat": 4,
 "nbformat_minor": 4
}
