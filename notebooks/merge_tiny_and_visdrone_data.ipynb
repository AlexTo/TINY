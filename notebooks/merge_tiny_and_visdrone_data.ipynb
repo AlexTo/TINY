{
 "cells": [
  {
   "cell_type": "code",
   "execution_count": 68,
   "metadata": {},
   "outputs": [],
   "source": [
    "import json\n",
    "import numpy as np"
   ]
  },
  {
   "cell_type": "code",
   "execution_count": 12,
   "metadata": {},
   "outputs": [],
   "source": [
    "visdrone_train_file = '../dataset/visdrone/annotations/visdrone_train_sw640_sh512.json'\n",
    "tiny_train_file = '../dataset/tiny_set/erase_with_uncertain_dataset/annotations/corner/task/tiny_set_train_sw640_sh512_all.json'\n",
    "vis_person_train_file = '../dataset/vis_person/vis_person_set_train_sw640_sh512.json'"
   ]
  },
  {
   "cell_type": "markdown",
   "metadata": {},
   "source": [
    "### Link data directories"
   ]
  },
  {
   "cell_type": "code",
   "execution_count": 10,
   "metadata": {},
   "outputs": [
    {
     "name": "stdout",
     "output_type": "stream",
     "text": [
      "ln: failed to create symbolic link '../dataset/vis_person/tiny_set': File exists\n",
      "ln: failed to create symbolic link '../dataset/vis_person/visdrone': File exists\n"
     ]
    }
   ],
   "source": [
    "!ln -s ../dataset/tiny_set/ ../dataset/vis_person/\n",
    "!ln -s ../dataset/visdrone/ ../dataset/vis_person/"
   ]
  },
  {
   "cell_type": "markdown",
   "metadata": {},
   "source": [
    "### Update paths for images"
   ]
  },
  {
   "cell_type": "markdown",
   "metadata": {},
   "source": [
    "#### Update paths for Tiny train"
   ]
  },
  {
   "cell_type": "code",
   "execution_count": 33,
   "metadata": {},
   "outputs": [],
   "source": [
    "with open(tiny_train_file) as f:\n",
    "    tiny_train = json.load(f)\n",
    "tiny_images = tiny_train['images']\n",
    "tiny_annotations = tiny_train['annotations']\n",
    "for img in tiny_images:\n",
    "    img['file_name'] = f\"tiny_set/erase_with_uncertain_dataset/train/{img['file_name']}\""
   ]
  },
  {
   "cell_type": "code",
   "execution_count": 34,
   "metadata": {},
   "outputs": [
    {
     "data": {
      "text/plain": [
       "{'file_name': 'tiny_set/erase_with_uncertain_dataset/train/labeled_images/bb_V0032_I0001640.jpg',\n",
       " 'height': 512,\n",
       " 'width': 640,\n",
       " 'id': 0,\n",
       " 'corner': [0, 0, 640, 512]}"
      ]
     },
     "execution_count": 34,
     "metadata": {},
     "output_type": "execute_result"
    }
   ],
   "source": [
    "tiny_images[0]"
   ]
  },
  {
   "cell_type": "code",
   "execution_count": null,
   "metadata": {},
   "outputs": [],
   "source": [
    "#### Update paths for Visdrone train"
   ]
  },
  {
   "cell_type": "code",
   "execution_count": 54,
   "metadata": {},
   "outputs": [],
   "source": [
    "with open(visdrone_train_file) as f:\n",
    "    visdrone_train = json.load(f)\n",
    "\n",
    "visdrone_images = visdrone_train['images']\n",
    "visdrone_annotations = visdrone_train['annotations']\n",
    "for img in visdrone_images:\n",
    "    img['file_name'] = f\"visdrone/images/train/{img['file_name']}\""
   ]
  },
  {
   "cell_type": "code",
   "execution_count": 44,
   "metadata": {},
   "outputs": [
    {
     "data": {
      "text/plain": [
       "{'id': 0,\n",
       " 'width': 640,\n",
       " 'height': 512,\n",
       " 'file_name': 'visdrone/images/train/0000002_00005_d_0000014.jpg',\n",
       " 'corner': [0, 0, 640, 512]}"
      ]
     },
     "execution_count": 44,
     "metadata": {},
     "output_type": "execute_result"
    }
   ],
   "source": [
    "visdrone_images[0]"
   ]
  },
  {
   "cell_type": "markdown",
   "metadata": {},
   "source": [
    "#### Update id for images and annotation in Visdrone.\n",
    "    In Tiny, there are 8256 images with id in continuous range of 0-8255 and 32430 annotations with id in range of 0-32429. Therefore, we update Visdrone image and annotation ids."
   ]
  },
  {
   "cell_type": "code",
   "execution_count": 42,
   "metadata": {},
   "outputs": [
    {
     "data": {
      "text/plain": [
       "32430"
      ]
     },
     "execution_count": 42,
     "metadata": {},
     "output_type": "execute_result"
    }
   ],
   "source": [
    "len(tiny_annotations)"
   ]
  },
  {
   "cell_type": "code",
   "execution_count": 55,
   "metadata": {},
   "outputs": [],
   "source": [
    "vis_drone_image_id_map = {}\n",
    "_id = 8256\n",
    "for img in visdrone_images:\n",
    "    vis_drone_image_id_map[img['id']] = _id\n",
    "    img['id'] = _id\n",
    "    _id = _id + 1"
   ]
  },
  {
   "cell_type": "code",
   "execution_count": 56,
   "metadata": {},
   "outputs": [
    {
     "data": {
      "text/plain": [
       "{'id': 8256,\n",
       " 'width': 640,\n",
       " 'height': 512,\n",
       " 'file_name': 'visdrone/images/train/0000002_00005_d_0000014.jpg',\n",
       " 'corner': [0, 0, 640, 512]}"
      ]
     },
     "execution_count": 56,
     "metadata": {},
     "output_type": "execute_result"
    }
   ],
   "source": [
    "visdrone_images[0]"
   ]
  },
  {
   "cell_type": "code",
   "execution_count": 57,
   "metadata": {},
   "outputs": [],
   "source": [
    "_id = 32430\n",
    "for ann in visdrone_annotations:\n",
    "    ann['id'] = _id\n",
    "    ann['image_id'] = vis_drone_image_id_map[ann['image_id']]\n",
    "    _id = _id + 1"
   ]
  },
  {
   "cell_type": "code",
   "execution_count": 65,
   "metadata": {},
   "outputs": [],
   "source": [
    "tiny_train['images'] = tiny_images + visdrone_images\n",
    "tiny_train['annotations'] = tiny_annotations + visdrone_annotations"
   ]
  },
  {
   "cell_type": "code",
   "execution_count": 66,
   "metadata": {},
   "outputs": [],
   "source": [
    "with open(vis_person_train_file, 'w') as f:\n",
    "    json.dump(tiny_train, f)"
   ]
  },
  {
   "cell_type": "code",
   "execution_count": null,
   "metadata": {},
   "outputs": [],
   "source": []
  }
 ],
 "metadata": {
  "kernelspec": {
   "display_name": "Python 3",
   "language": "python",
   "name": "python3"
  },
  "language_info": {
   "codemirror_mode": {
    "name": "ipython",
    "version": 3
   },
   "file_extension": ".py",
   "mimetype": "text/x-python",
   "name": "python",
   "nbconvert_exporter": "python",
   "pygments_lexer": "ipython3",
   "version": "3.7.7"
  }
 },
 "nbformat": 4,
 "nbformat_minor": 4
}
