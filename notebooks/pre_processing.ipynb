{
 "cells": [
  {
   "cell_type": "code",
   "execution_count": 1,
   "metadata": {},
   "outputs": [],
   "source": [
    "import json"
   ]
  },
  {
   "cell_type": "code",
   "execution_count": 2,
   "metadata": {},
   "outputs": [],
   "source": [
    "with open ('../dataset/tiny_set/erase_with_uncertain_dataset/annotations/corner/task/tiny_set_train_sw640_sh512_all.json') as f:\n",
    "    train = json.load(f)"
   ]
  },
  {
   "cell_type": "code",
   "execution_count": 4,
   "metadata": {},
   "outputs": [],
   "source": [
    "annotations = train['annotations']"
   ]
  },
  {
   "cell_type": "code",
   "execution_count": 13,
   "metadata": {},
   "outputs": [
    {
     "data": {
      "text/plain": [
       "{'segmentation': [[402.91552734375,\n",
       "   472.0858459472656,\n",
       "   402.91552734375,\n",
       "   481.53443813323975,\n",
       "   411.5051565170288,\n",
       "   481.53443813323975,\n",
       "   411.5051565170288,\n",
       "   472.0858459472656]],\n",
       " 'bbox': [402.91552734375,\n",
       "  472.0858459472656,\n",
       "  8.589629173278809,\n",
       "  9.448592185974121],\n",
       " 'category_id': 1,\n",
       " 'area': 81.1599030870575,\n",
       " 'iscrowd': 0,\n",
       " 'image_id': 6,\n",
       " 'id': 11,\n",
       " 'ignore': True,\n",
       " 'uncertain': False,\n",
       " 'logo': False,\n",
       " 'in_dense_image': False,\n",
       " 'size': 9.008879124899916}"
      ]
     },
     "execution_count": 13,
     "metadata": {},
     "output_type": "execute_result"
    }
   ],
   "source": [
    "annotations[11]"
   ]
  },
  {
   "cell_type": "code",
   "execution_count": 10,
   "metadata": {},
   "outputs": [],
   "source": [
    "for a in annotations:\n",
    "    if a['bbox'][3] > 8:\n",
    "        a['ignore'] = True"
   ]
  },
  {
   "cell_type": "code",
   "execution_count": 18,
   "metadata": {},
   "outputs": [],
   "source": [
    "with open ('../dataset/tiny_set/erase_with_uncertain_dataset/annotations/corner/task/tiny_set_train_sw640_sh512_all_only_tiny1.json', 'w') as f:\n",
    "    json.dump(train, f)"
   ]
  },
  {
   "cell_type": "code",
   "execution_count": null,
   "metadata": {},
   "outputs": [],
   "source": []
  }
 ],
 "metadata": {
  "kernelspec": {
   "display_name": "Python 3",
   "language": "python",
   "name": "python3"
  },
  "language_info": {
   "codemirror_mode": {
    "name": "ipython",
    "version": 3
   },
   "file_extension": ".py",
   "mimetype": "text/x-python",
   "name": "python",
   "nbconvert_exporter": "python",
   "pygments_lexer": "ipython3",
   "version": "3.7.7"
  }
 },
 "nbformat": 4,
 "nbformat_minor": 4
}
