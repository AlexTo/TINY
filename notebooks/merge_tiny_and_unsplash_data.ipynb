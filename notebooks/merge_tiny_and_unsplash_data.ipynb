{
 "cells": [
  {
   "cell_type": "code",
   "execution_count": 4,
   "metadata": {},
   "outputs": [],
   "source": [
    "import json\n",
    "import numpy as np\n",
    "from pycocotools.coco import COCO"
   ]
  },
  {
   "cell_type": "code",
   "execution_count": 1,
   "metadata": {},
   "outputs": [],
   "source": [
    "unsplash_train_file = '../dataset/unsplash/annotations/unsplash_train_sw640_sh512.json'\n",
    "tiny_train_file = '../dataset/tiny_set/erase_with_uncertain_dataset/annotations/corner/task/tiny_set_train_sw640_sh512_all.json'\n",
    "unsplash_person_train_file = '../dataset/unsplash_person/unsplash_person_set_train_sw640_sh512.json'"
   ]
  },
  {
   "cell_type": "markdown",
   "metadata": {},
   "source": [
    "### Link data directories"
   ]
  },
  {
   "cell_type": "code",
   "execution_count": 2,
   "metadata": {},
   "outputs": [],
   "source": [
    "!ln -s ../dataset/tiny_set/ ../dataset/unsplash_person/\n",
    "!ln -s ../dataset/unsplash/ ../dataset/unsplash_person/"
   ]
  },
  {
   "cell_type": "markdown",
   "metadata": {},
   "source": [
    "### Update paths for images"
   ]
  },
  {
   "cell_type": "markdown",
   "metadata": {},
   "source": [
    "#### Update paths for Tiny train"
   ]
  },
  {
   "cell_type": "code",
   "execution_count": 5,
   "metadata": {},
   "outputs": [],
   "source": [
    "with open(tiny_train_file) as f:\n",
    "    tiny_train = json.load(f)\n",
    "tiny_images = tiny_train['images']\n",
    "tiny_annotations = tiny_train['annotations']\n",
    "for img in tiny_images:\n",
    "    img['file_name'] = f\"tiny_set/erase_with_uncertain_dataset/train/{img['file_name']}\""
   ]
  },
  {
   "cell_type": "code",
   "execution_count": 6,
   "metadata": {},
   "outputs": [
    {
     "data": {
      "text/plain": [
       "{'file_name': 'tiny_set/erase_with_uncertain_dataset/train/labeled_images/bb_V0032_I0001640.jpg',\n",
       " 'height': 512,\n",
       " 'width': 640,\n",
       " 'id': 0,\n",
       " 'corner': [0, 0, 640, 512]}"
      ]
     },
     "execution_count": 6,
     "metadata": {},
     "output_type": "execute_result"
    }
   ],
   "source": [
    "tiny_images[0]"
   ]
  },
  {
   "cell_type": "code",
   "execution_count": 12,
   "metadata": {},
   "outputs": [],
   "source": [
    "#### Update paths for Unsplash train"
   ]
  },
  {
   "cell_type": "code",
   "execution_count": 7,
   "metadata": {},
   "outputs": [],
   "source": [
    "with open(unsplash_train_file) as f:\n",
    "    unsplash_train = json.load(f)\n",
    "\n",
    "unsplash_images = unsplash_train['images']\n",
    "unsplash_annotations = unsplash_train['annotations']\n",
    "for img in unsplash_images:\n",
    "    img['file_name'] = f\"unsplash/images/{img['file_name']}\""
   ]
  },
  {
   "cell_type": "code",
   "execution_count": 8,
   "metadata": {},
   "outputs": [
    {
     "data": {
      "text/plain": [
       "{'file_name': 'unsplash/images/artur-matosyan-_BBomiaROfg-unsplash.jpg',\n",
       " 'height': 512,\n",
       " 'width': 640,\n",
       " 'id': 0,\n",
       " 'corner': [0, 0, 640, 512]}"
      ]
     },
     "execution_count": 8,
     "metadata": {},
     "output_type": "execute_result"
    }
   ],
   "source": [
    "unsplash_images[0]"
   ]
  },
  {
   "cell_type": "markdown",
   "metadata": {},
   "source": [
    "#### Update id for images and annotation in Unsplash.\n",
    "    In Tiny, there are 8256 images with id in continuous range of 0-8255 and 32430 annotations with id in range of 0-32429. Therefore, we update Unsplash image and annotation ids."
   ]
  },
  {
   "cell_type": "code",
   "execution_count": 9,
   "metadata": {},
   "outputs": [
    {
     "data": {
      "text/plain": [
       "32430"
      ]
     },
     "execution_count": 9,
     "metadata": {},
     "output_type": "execute_result"
    }
   ],
   "source": [
    "len(tiny_annotations)"
   ]
  },
  {
   "cell_type": "code",
   "execution_count": 10,
   "metadata": {},
   "outputs": [],
   "source": [
    "unsplash_image_id_map = {}\n",
    "_id = 8256\n",
    "for img in unsplash_images:\n",
    "    unsplash_image_id_map[img['id']] = _id\n",
    "    img['id'] = _id\n",
    "    _id = _id + 1"
   ]
  },
  {
   "cell_type": "code",
   "execution_count": 11,
   "metadata": {},
   "outputs": [
    {
     "data": {
      "text/plain": [
       "{'file_name': 'unsplash/images/artur-matosyan-_BBomiaROfg-unsplash.jpg',\n",
       " 'height': 512,\n",
       " 'width': 640,\n",
       " 'id': 8256,\n",
       " 'corner': [0, 0, 640, 512]}"
      ]
     },
     "execution_count": 11,
     "metadata": {},
     "output_type": "execute_result"
    }
   ],
   "source": [
    "unsplash_images[0]"
   ]
  },
  {
   "cell_type": "code",
   "execution_count": 12,
   "metadata": {},
   "outputs": [],
   "source": [
    "_id = 32430\n",
    "for ann in unsplash_annotations:\n",
    "    ann['id'] = _id\n",
    "    ann['image_id'] = unsplash_image_id_map[ann['image_id']]\n",
    "    _id = _id + 1"
   ]
  },
  {
   "cell_type": "code",
   "execution_count": 14,
   "metadata": {},
   "outputs": [],
   "source": [
    "tiny_train['images'] = tiny_images + unsplash_images\n",
    "tiny_train['annotations'] = tiny_annotations + unsplash_annotations"
   ]
  },
  {
   "cell_type": "code",
   "execution_count": 15,
   "metadata": {},
   "outputs": [],
   "source": [
    "with open(unsplash_person_train_file, 'w') as f:\n",
    "    json.dump(tiny_train, f)"
   ]
  },
  {
   "cell_type": "code",
   "execution_count": 16,
   "metadata": {},
   "outputs": [
    {
     "data": {
      "text/plain": [
       "51653"
      ]
     },
     "execution_count": 16,
     "metadata": {},
     "output_type": "execute_result"
    }
   ],
   "source": [
    "len(tiny_train['annotations'])"
   ]
  },
  {
   "cell_type": "code",
   "execution_count": null,
   "metadata": {},
   "outputs": [],
   "source": []
  }
 ],
 "metadata": {
  "kernelspec": {
   "display_name": "Python 3",
   "language": "python",
   "name": "python3"
  },
  "language_info": {
   "codemirror_mode": {
    "name": "ipython",
    "version": 3
   },
   "file_extension": ".py",
   "mimetype": "text/x-python",
   "name": "python",
   "nbconvert_exporter": "python",
   "pygments_lexer": "ipython3",
   "version": "3.7.7"
  }
 },
 "nbformat": 4,
 "nbformat_minor": 4
}
